{
 "cells": [
  {
   "cell_type": "markdown",
   "id": "12876af6",
   "metadata": {},
   "source": [
    "### Task 3 - Data Enrichment with Object Detection (YOLO)"
   ]
  },
  {
   "cell_type": "code",
   "execution_count": 2,
   "id": "fedded14",
   "metadata": {},
   "outputs": [],
   "source": [
    "# %pip install ultralytics"
   ]
  },
  {
   "cell_type": "code",
   "execution_count": 5,
   "id": "8960281c",
   "metadata": {},
   "outputs": [],
   "source": [
    "from ultralytics import YOLO\n",
    "import os\n",
    "import json\n",
    "import psycopg2\n",
    "from psycopg2.extras import execute_values\n",
    "from dotenv import load_dotenv\n",
    "from datetime import datetime\n",
    "from PIL import Image\n",
    "import sys\n",
    "sys.path.append(os.path.abspath(\"../Script\"))\n",
    "import warnings\n",
    "warnings.filterwarnings('ignore')"
   ]
  },
  {
   "cell_type": "code",
   "execution_count": 8,
   "id": "b9c86829",
   "metadata": {},
   "outputs": [],
   "source": [
    "os.chdir(\"..\")"
   ]
  },
  {
   "cell_type": "code",
   "execution_count": 6,
   "id": "74514b28",
   "metadata": {},
   "outputs": [],
   "source": [
    "from Data_Enrichment import *"
   ]
  },
  {
   "cell_type": "code",
   "execution_count": 14,
   "id": "50200112",
   "metadata": {},
   "outputs": [
    {
     "name": "stdout",
     "output_type": "stream",
     "text": [
      " Mapping JSON created: image_message_mapping.json\n"
     ]
    }
   ],
   "source": [
    "# Our scraped message file\n",
    "input_json = \"Data/Raw/Telegram_Med_messages/2025-07-15/lobelia4cosmetics.json\"\n",
    "output_json = \"image_message_mapping.json\"\n",
    "\n",
    "# Build mapping {image_filename: message_id}\n",
    "with open(input_json, 'r', encoding='utf-8') as f:\n",
    "    messages = json.load(f)\n",
    "\n",
    "image_map = {}\n",
    "\n",
    "for msg in messages:\n",
    "    if msg.get('media_type') == \"MessageMediaPhoto\":\n",
    "        file_path = msg.get('media_file_path')\n",
    "        if file_path:\n",
    "            filename = os.path.basename(file_path)\n",
    "            image_map[filename] = msg.get('id')\n",
    "\n",
    "# Save it\n",
    "with open(output_json, 'w', encoding='utf-8') as out:\n",
    "    json.dump(image_map, out, indent=2)\n",
    "\n",
    "print(f\" Mapping JSON created: {output_json}\")\n"
   ]
  },
  {
   "cell_type": "code",
   "execution_count": 15,
   "id": "1d0e6a4a",
   "metadata": {},
   "outputs": [
    {
     "name": "stdout",
     "output_type": "stream",
     "text": [
      " Total detections: 0\n"
     ]
    }
   ],
   "source": [
    "image_dir = \"Data/Raw/Telegram_Med_messages/2025-07-15/images\"\n",
    "mapping_json = \"image_message_mapping.json\"\n",
    "\n",
    "detections = detect_objects_in_images(image_dir, mapping_json)\n",
    "print(f\" Total detections: {len(detections)}\")"
   ]
  }
 ],
 "metadata": {
  "kernelspec": {
   "display_name": "Python 3",
   "language": "python",
   "name": "python3"
  },
  "language_info": {
   "codemirror_mode": {
    "name": "ipython",
    "version": 3
   },
   "file_extension": ".py",
   "mimetype": "text/x-python",
   "name": "python",
   "nbconvert_exporter": "python",
   "pygments_lexer": "ipython3",
   "version": "3.11.0"
  }
 },
 "nbformat": 4,
 "nbformat_minor": 5
}
