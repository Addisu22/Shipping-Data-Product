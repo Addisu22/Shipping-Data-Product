{
 "cells": [
  {
   "cell_type": "markdown",
   "id": "12876af6",
   "metadata": {},
   "source": [
    "### Task 3 - Data Enrichment with Object Detection (YOLO)"
   ]
  },
  {
   "cell_type": "code",
   "execution_count": 2,
   "id": "fedded14",
   "metadata": {},
   "outputs": [],
   "source": [
    "# %pip install ultralytics"
   ]
  },
  {
   "cell_type": "code",
   "execution_count": 1,
   "id": "8960281c",
   "metadata": {},
   "outputs": [],
   "source": [
    "from ultralytics import YOLO\n",
    "from psycopg2.extras import execute_values\n",
    "from dotenv import load_dotenv\n",
    "import os\n",
    "import json\n",
    "import psycopg2\n",
    "from datetime import datetime\n",
    "from PIL import Image\n",
    "import sys\n",
    "sys.path.append(os.path.abspath(\"../Script\"))\n",
    "import warnings\n",
    "warnings.filterwarnings('ignore')"
   ]
  },
  {
   "cell_type": "code",
   "execution_count": 7,
   "id": "b9c86829",
   "metadata": {},
   "outputs": [],
   "source": [
    "os.chdir(\"..\")\n",
    "# print(os.getcwd()) "
   ]
  },
  {
   "cell_type": "code",
   "execution_count": 3,
   "id": "74514b28",
   "metadata": {},
   "outputs": [],
   "source": [
    "from Data_Enrichment import *"
   ]
  },
  {
   "cell_type": "code",
   "execution_count": null,
   "id": "1d0e6a4a",
   "metadata": {},
   "outputs": [
    {
     "name": "stdout",
     "output_type": "stream",
     "text": [
      " Detected and saved 0 records.\n",
      "Total detections: 0\n"
     ]
    }
   ],
   "source": [
    "image_dir = \"Data/Raw/Telegram_Med_messages/2025-07-15/lobelia4cosmetics.json\"\n",
    "mapping_json = \"image_message_mapping.json\"\n",
    "\n",
    "detections = detect_objects_in_images(image_dir, mapping_json)\n",
    "print(f\"Total detections: {len(detections)}\")"
   ]
  }
 ],
 "metadata": {
  "kernelspec": {
   "display_name": "Python 3",
   "language": "python",
   "name": "python3"
  },
  "language_info": {
   "codemirror_mode": {
    "name": "ipython",
    "version": 3
   },
   "file_extension": ".py",
   "mimetype": "text/x-python",
   "name": "python",
   "nbconvert_exporter": "python",
   "pygments_lexer": "ipython3",
   "version": "3.11.0"
  }
 },
 "nbformat": 4,
 "nbformat_minor": 5
}
