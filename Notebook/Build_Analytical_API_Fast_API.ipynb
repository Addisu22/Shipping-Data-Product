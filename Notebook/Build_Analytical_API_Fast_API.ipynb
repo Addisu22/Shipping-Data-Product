{
 "cells": [
  {
   "cell_type": "markdown",
   "id": "dd98d1f4",
   "metadata": {},
   "source": [
    "### Task 4 - Build an Analytical API Fast API "
   ]
  },
  {
   "cell_type": "code",
   "execution_count": 6,
   "id": "8e150d96",
   "metadata": {},
   "outputs": [
    {
     "name": "stdout",
     "output_type": "stream",
     "text": [
      "Requirement already satisfied: fastapi in c:\\users\\hause\\appdata\\roaming\\python\\python311\\site-packages (0.116.0)\n",
      "Requirement already satisfied: uvicorn in c:\\users\\hause\\appdata\\roaming\\python\\python311\\site-packages (0.35.0)\n",
      "Requirement already satisfied: psycopg2-binary in c:\\program files\\python311\\lib\\site-packages (2.9.10)\n",
      "Requirement already satisfied: pydantic in c:\\users\\hause\\appdata\\roaming\\python\\python311\\site-packages (2.11.7)\n",
      "Requirement already satisfied: starlette<0.47.0,>=0.40.0 in c:\\users\\hause\\appdata\\roaming\\python\\python311\\site-packages (from fastapi) (0.46.2)\n",
      "Requirement already satisfied: typing-extensions>=4.8.0 in c:\\users\\hause\\appdata\\roaming\\python\\python311\\site-packages (from fastapi) (4.14.1)\n",
      "Requirement already satisfied: click>=7.0 in c:\\program files\\python311\\lib\\site-packages (from uvicorn) (8.1.8)\n",
      "Requirement already satisfied: h11>=0.8 in c:\\users\\hause\\appdata\\roaming\\python\\python311\\site-packages (from uvicorn) (0.16.0)\n",
      "Requirement already satisfied: annotated-types>=0.6.0 in c:\\users\\hause\\appdata\\roaming\\python\\python311\\site-packages (from pydantic) (0.7.0)\n",
      "Requirement already satisfied: pydantic-core==2.33.2 in c:\\users\\hause\\appdata\\roaming\\python\\python311\\site-packages (from pydantic) (2.33.2)\n",
      "Requirement already satisfied: typing-inspection>=0.4.0 in c:\\users\\hause\\appdata\\roaming\\python\\python311\\site-packages (from pydantic) (0.4.1)\n",
      "Requirement already satisfied: colorama in c:\\users\\hause\\appdata\\roaming\\python\\python311\\site-packages (from click>=7.0->uvicorn) (0.4.6)\n",
      "Requirement already satisfied: anyio<5,>=3.6.2 in c:\\users\\hause\\appdata\\roaming\\python\\python311\\site-packages (from starlette<0.47.0,>=0.40.0->fastapi) (4.9.0)\n",
      "Requirement already satisfied: idna>=2.8 in c:\\users\\hause\\appdata\\roaming\\python\\python311\\site-packages (from anyio<5,>=3.6.2->starlette<0.47.0,>=0.40.0->fastapi) (2.10)\n",
      "Requirement already satisfied: sniffio>=1.1 in c:\\users\\hause\\appdata\\roaming\\python\\python311\\site-packages (from anyio<5,>=3.6.2->starlette<0.47.0,>=0.40.0->fastapi) (1.3.1)\n",
      "Note: you may need to restart the kernel to use updated packages.\n"
     ]
    },
    {
     "name": "stderr",
     "output_type": "stream",
     "text": [
      "\n",
      "[notice] A new release of pip available: 22.3 -> 25.1.1\n",
      "[notice] To update, run: python.exe -m pip install --upgrade pip\n"
     ]
    }
   ],
   "source": [
    "%pip install fastapi uvicorn psycopg2-binary pydantic\n",
    "# %pip install sqlalchemy psycopg2-binary"
   ]
  },
  {
   "cell_type": "code",
   "execution_count": 1,
   "id": "34c855db",
   "metadata": {},
   "outputs": [],
   "source": [
    "import psycopg2\n",
    "import os\n",
    "import sys\n",
    "import json\n",
    "from psycopg2.extras import execute_values\n",
    "import shutil\n",
    "from datetime import datetime\n",
    "sys.path.append(os.path.abspath(\"../Script\"))\n",
    "import warnings\n",
    "warnings.filterwarnings('ignore')"
   ]
  },
  {
   "cell_type": "code",
   "execution_count": 2,
   "id": "89cd77dd",
   "metadata": {},
   "outputs": [],
   "source": [
    "os.chdir(\"..\")\n",
    "# print(os.getcwd()) "
   ]
  },
  {
   "cell_type": "code",
   "execution_count": 3,
   "id": "68c9e642",
   "metadata": {},
   "outputs": [],
   "source": [
    "from connection import getpgsql_connect \n",
    "from dbconnection import *\n",
    "from cruds import *\n",
    "from main import *\n",
    "from pipeline import *\n",
    "from schemas import *"
   ]
  },
  {
   "cell_type": "code",
   "execution_count": 4,
   "id": "3fcc6ae5",
   "metadata": {},
   "outputs": [
    {
     "name": "stdout",
     "output_type": "stream",
     "text": [
      "Connected to PostgreSQL!\n"
     ]
    }
   ],
   "source": [
    "conn = getpgsql_connect()\n",
    "print(\"Connected to PostgreSQL!\")\n",
    "conn.close()"
   ]
  },
  {
   "cell_type": "code",
   "execution_count": 5,
   "id": "3390fa15",
   "metadata": {},
   "outputs": [
    {
     "data": {
      "text/plain": [
       "<models.ProductMention at 0x1ba11b938d0>"
      ]
     },
     "execution_count": 5,
     "metadata": {},
     "output_type": "execute_result"
    }
   ],
   "source": [
    "ProductMention()"
   ]
  }
 ],
 "metadata": {
  "kernelspec": {
   "display_name": "Python 3",
   "language": "python",
   "name": "python3"
  },
  "language_info": {
   "codemirror_mode": {
    "name": "ipython",
    "version": 3
   },
   "file_extension": ".py",
   "mimetype": "text/x-python",
   "name": "python",
   "nbconvert_exporter": "python",
   "pygments_lexer": "ipython3",
   "version": "3.11.0"
  }
 },
 "nbformat": 4,
 "nbformat_minor": 5
}
