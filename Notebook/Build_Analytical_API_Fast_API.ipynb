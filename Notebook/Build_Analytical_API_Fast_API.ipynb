{
 "cells": [
  {
   "cell_type": "markdown",
   "id": "dd98d1f4",
   "metadata": {},
   "source": [
    "### Task 4 - Build an Analytical API Fast API "
   ]
  },
  {
   "cell_type": "code",
   "execution_count": null,
   "id": "8e150d96",
   "metadata": {},
   "outputs": [],
   "source": []
  }
 ],
 "metadata": {
  "language_info": {
   "name": "python"
  }
 },
 "nbformat": 4,
 "nbformat_minor": 5
}
