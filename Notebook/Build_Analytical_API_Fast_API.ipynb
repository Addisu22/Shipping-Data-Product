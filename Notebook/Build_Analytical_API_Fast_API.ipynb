{
 "cells": [
  {
   "cell_type": "markdown",
   "id": "dd98d1f4",
   "metadata": {},
   "source": [
    "### Task 4 - Build an Analytical API Fast API "
   ]
  },
  {
   "cell_type": "code",
   "execution_count": 1,
   "id": "8e150d96",
   "metadata": {},
   "outputs": [],
   "source": [
    "# %pip install fastapi uvicorn psycopg2-binary pydantic\n",
    "# %pip install sqlalchemy psycopg2-binary"
   ]
  },
  {
   "cell_type": "code",
   "execution_count": 1,
   "id": "34c855db",
   "metadata": {},
   "outputs": [],
   "source": [
    "import psycopg2\n",
    "import os\n",
    "import sys\n",
    "import json\n",
    "from psycopg2.extras import execute_values\n",
    "import shutil\n",
    "from datetime import datetime\n",
    "sys.path.append(os.path.abspath(\"../Script\"))\n",
    "import warnings\n",
    "warnings.filterwarnings('ignore')"
   ]
  },
  {
   "cell_type": "code",
   "execution_count": 2,
   "id": "89cd77dd",
   "metadata": {},
   "outputs": [],
   "source": [
    "os.chdir(\"..\")\n",
    "# print(os.getcwd()) "
   ]
  },
  {
   "cell_type": "code",
   "execution_count": 4,
   "id": "68c9e642",
   "metadata": {},
   "outputs": [],
   "source": [
    "from connection import getpgsql_connect \n",
    "from dbconnection import *\n",
    "from cruds import *\n",
    "from main import *\n",
    "from pipeline import *\n",
    "from schemas import *"
   ]
  },
  {
   "cell_type": "code",
   "execution_count": 5,
   "id": "3fcc6ae5",
   "metadata": {},
   "outputs": [
    {
     "name": "stdout",
     "output_type": "stream",
     "text": [
      "Connected to PostgreSQL!\n"
     ]
    }
   ],
   "source": [
    "conn = getpgsql_connect()\n",
    "print(\"Connected to PostgreSQL!\")\n",
    "conn.close()"
   ]
  },
  {
   "cell_type": "code",
   "execution_count": null,
   "id": "3390fa15",
   "metadata": {},
   "outputs": [],
   "source": []
  }
 ],
 "metadata": {
  "kernelspec": {
   "display_name": "Python 3",
   "language": "python",
   "name": "python3"
  },
  "language_info": {
   "codemirror_mode": {
    "name": "ipython",
    "version": 3
   },
   "file_extension": ".py",
   "mimetype": "text/x-python",
   "name": "python",
   "nbconvert_exporter": "python",
   "pygments_lexer": "ipython3",
   "version": "3.11.0"
  }
 },
 "nbformat": 4,
 "nbformat_minor": 5
}
