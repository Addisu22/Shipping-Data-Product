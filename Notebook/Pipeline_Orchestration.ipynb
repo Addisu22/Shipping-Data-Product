{
 "cells": [
  {
   "cell_type": "markdown",
   "id": "ec6c05a5",
   "metadata": {},
   "source": [
    "### Task 5 - Pipeline Orchestration"
   ]
  },
  {
   "cell_type": "code",
   "execution_count": 7,
   "id": "ec9af376",
   "metadata": {},
   "outputs": [
    {
     "name": "stdout",
     "output_type": "stream",
     "text": [
      "Requirement already satisfied: dagster in c:\\program files\\python311\\lib\\site-packages (1.11.2)\n",
      "Requirement already satisfied: dagster-webserver in c:\\program files\\python311\\lib\\site-packages (1.11.2)\n",
      "Requirement already satisfied: click<8.2,>=5.0 in c:\\program files\\python311\\lib\\site-packages (from dagster) (8.1.8)\n",
      "Requirement already satisfied: coloredlogs<=14.0,>=6.1 in c:\\program files\\python311\\lib\\site-packages (from dagster) (14.0)\n",
      "Requirement already satisfied: Jinja2 in c:\\users\\hause\\appdata\\roaming\\python\\python311\\site-packages (from dagster) (3.1.6)\n",
      "Requirement already satisfied: alembic!=1.11.0,!=1.6.3,!=1.7.0,>=1.2.1 in c:\\program files\\python311\\lib\\site-packages (from dagster) (1.16.4)\n",
      "Requirement already satisfied: grpcio>=1.44.0 in c:\\program files\\python311\\lib\\site-packages (from dagster) (1.73.1)\n",
      "Requirement already satisfied: grpcio-health-checking>=1.44.0 in c:\\program files\\python311\\lib\\site-packages (from dagster) (1.71.2)\n",
      "Requirement already satisfied: protobuf<6,>=4 in c:\\program files\\python311\\lib\\site-packages (from dagster) (5.29.5)\n",
      "Requirement already satisfied: python-dotenv in c:\\users\\hause\\appdata\\roaming\\python\\python311\\site-packages (from dagster) (1.1.1)\n",
      "Requirement already satisfied: pytz in c:\\users\\hause\\appdata\\roaming\\python\\python311\\site-packages (from dagster) (2025.2)\n",
      "Requirement already satisfied: requests in c:\\users\\hause\\appdata\\roaming\\python\\python311\\site-packages (from dagster) (2.32.4)\n",
      "Requirement already satisfied: setuptools in c:\\program files\\python311\\lib\\site-packages (from dagster) (65.5.0)\n",
      "Requirement already satisfied: six in c:\\users\\hause\\appdata\\roaming\\python\\python311\\site-packages (from dagster) (1.17.0)\n",
      "Requirement already satisfied: tabulate in c:\\users\\hause\\appdata\\roaming\\python\\python311\\site-packages (from dagster) (0.9.0)\n",
      "Requirement already satisfied: tomli<3 in c:\\program files\\python311\\lib\\site-packages (from dagster) (2.2.1)\n",
      "Requirement already satisfied: tqdm<5 in c:\\users\\hause\\appdata\\roaming\\python\\python311\\site-packages (from dagster) (4.67.1)\n",
      "Requirement already satisfied: tzdata in c:\\users\\hause\\appdata\\roaming\\python\\python311\\site-packages (from dagster) (2025.2)\n",
      "Requirement already satisfied: structlog in c:\\program files\\python311\\lib\\site-packages (from dagster) (25.4.0)\n",
      "Requirement already satisfied: sqlalchemy<3,>=1.0 in c:\\users\\hause\\appdata\\roaming\\python\\python311\\site-packages (from dagster) (1.4.24)\n",
      "Requirement already satisfied: toposort>=1.0 in c:\\program files\\python311\\lib\\site-packages (from dagster) (1.10)\n",
      "Requirement already satisfied: watchdog<6,>=0.8.3 in c:\\program files\\python311\\lib\\site-packages (from dagster) (5.0.3)\n",
      "Requirement already satisfied: psutil>=1.0 in c:\\users\\hause\\appdata\\roaming\\python\\python311\\site-packages (from dagster) (7.0.0)\n",
      "Requirement already satisfied: pywin32!=226 in c:\\users\\hause\\appdata\\roaming\\python\\python311\\site-packages (from dagster) (310)\n",
      "Requirement already satisfied: docstring-parser in c:\\program files\\python311\\lib\\site-packages (from dagster) (0.16)\n",
      "Requirement already satisfied: universal_pathlib in c:\\program files\\python311\\lib\\site-packages (from dagster) (0.2.6)\n",
      "Requirement already satisfied: rich in c:\\users\\hause\\appdata\\roaming\\python\\python311\\site-packages (from dagster) (14.0.0)\n",
      "Requirement already satisfied: filelock in c:\\users\\hause\\appdata\\roaming\\python\\python311\\site-packages (from dagster) (3.18.0)\n",
      "Requirement already satisfied: dagster-pipes==1.11.2 in c:\\program files\\python311\\lib\\site-packages (from dagster) (1.11.2)\n",
      "Requirement already satisfied: dagster-shared==1.11.2 in c:\\program files\\python311\\lib\\site-packages (from dagster) (1.11.2)\n",
      "Requirement already satisfied: antlr4-python3-runtime in c:\\program files\\python311\\lib\\site-packages (from dagster) (4.13.2)\n",
      "Requirement already satisfied: PyYAML>=5.1 in c:\\users\\hause\\appdata\\roaming\\python\\python311\\site-packages (from dagster-shared==1.11.2->dagster) (6.0.2)\n",
      "Requirement already satisfied: packaging>=20.9 in c:\\users\\hause\\appdata\\roaming\\python\\python311\\site-packages (from dagster-shared==1.11.2->dagster) (24.2)\n",
      "Requirement already satisfied: pydantic<3.0.0,>=2 in c:\\users\\hause\\appdata\\roaming\\python\\python311\\site-packages (from dagster-shared==1.11.2->dagster) (2.11.7)\n",
      "Requirement already satisfied: typing_extensions<5,>=4.11.0 in c:\\users\\hause\\appdata\\roaming\\python\\python311\\site-packages (from dagster-shared==1.11.2->dagster) (4.14.1)\n",
      "Requirement already satisfied: tomlkit in c:\\users\\hause\\appdata\\roaming\\python\\python311\\site-packages (from dagster-shared==1.11.2->dagster) (0.13.3)\n",
      "Requirement already satisfied: dagster-graphql==1.11.2 in c:\\program files\\python311\\lib\\site-packages (from dagster-webserver) (1.11.2)\n",
      "Requirement already satisfied: starlette!=0.36.0 in c:\\users\\hause\\appdata\\roaming\\python\\python311\\site-packages (from dagster-webserver) (0.46.2)\n",
      "Requirement already satisfied: uvicorn[standard] in c:\\users\\hause\\appdata\\roaming\\python\\python311\\site-packages (from dagster-webserver) (0.35.0)\n",
      "Requirement already satisfied: graphene<4,>=3 in c:\\program files\\python311\\lib\\site-packages (from dagster-graphql==1.11.2->dagster-webserver) (3.4.3)\n",
      "Requirement already satisfied: gql[requests]<4,>=3 in c:\\program files\\python311\\lib\\site-packages (from dagster-graphql==1.11.2->dagster-webserver) (3.5.3)\n",
      "Requirement already satisfied: Mako in c:\\program files\\python311\\lib\\site-packages (from alembic!=1.11.0,!=1.6.3,!=1.7.0,>=1.2.1->dagster) (1.3.10)\n",
      "Requirement already satisfied: colorama in c:\\users\\hause\\appdata\\roaming\\python\\python311\\site-packages (from click<8.2,>=5.0->dagster) (0.4.6)\n",
      "Requirement already satisfied: humanfriendly>=7.1 in c:\\program files\\python311\\lib\\site-packages (from coloredlogs<=14.0,>=6.1->dagster) (10.0)\n",
      "Requirement already satisfied: anyio<5,>=3.6.2 in c:\\users\\hause\\appdata\\roaming\\python\\python311\\site-packages (from starlette!=0.36.0->dagster-webserver) (4.9.0)\n",
      "Requirement already satisfied: MarkupSafe>=2.0 in c:\\users\\hause\\appdata\\roaming\\python\\python311\\site-packages (from Jinja2->dagster) (3.0.2)\n",
      "Requirement already satisfied: charset_normalizer<4,>=2 in c:\\users\\hause\\appdata\\roaming\\python\\python311\\site-packages (from requests->dagster) (3.4.2)\n",
      "Requirement already satisfied: idna<4,>=2.5 in c:\\users\\hause\\appdata\\roaming\\python\\python311\\site-packages (from requests->dagster) (2.10)\n",
      "Requirement already satisfied: urllib3<3,>=1.21.1 in c:\\users\\hause\\appdata\\roaming\\python\\python311\\site-packages (from requests->dagster) (1.26.20)\n",
      "Requirement already satisfied: certifi>=2017.4.17 in c:\\users\\hause\\appdata\\roaming\\python\\python311\\site-packages (from requests->dagster) (2025.6.15)\n",
      "Requirement already satisfied: markdown-it-py>=2.2.0 in c:\\users\\hause\\appdata\\roaming\\python\\python311\\site-packages (from rich->dagster) (3.0.0)\n",
      "Requirement already satisfied: pygments<3.0.0,>=2.13.0 in c:\\users\\hause\\appdata\\roaming\\python\\python311\\site-packages (from rich->dagster) (2.19.2)\n",
      "Requirement already satisfied: fsspec!=2024.3.1,>=2022.1.0 in c:\\users\\hause\\appdata\\roaming\\python\\python311\\site-packages (from universal_pathlib->dagster) (2025.5.1)\n",
      "Requirement already satisfied: h11>=0.8 in c:\\users\\hause\\appdata\\roaming\\python\\python311\\site-packages (from uvicorn[standard]->dagster-webserver) (0.16.0)\n",
      "Requirement already satisfied: httptools>=0.6.3 in c:\\program files\\python311\\lib\\site-packages (from uvicorn[standard]->dagster-webserver) (0.6.4)\n",
      "Requirement already satisfied: watchfiles>=0.13 in c:\\program files\\python311\\lib\\site-packages (from uvicorn[standard]->dagster-webserver) (1.1.0)\n",
      "Requirement already satisfied: websockets>=10.4 in c:\\users\\hause\\appdata\\roaming\\python\\python311\\site-packages (from uvicorn[standard]->dagster-webserver) (15.0.1)\n",
      "Requirement already satisfied: sniffio>=1.1 in c:\\users\\hause\\appdata\\roaming\\python\\python311\\site-packages (from anyio<5,>=3.6.2->starlette!=0.36.0->dagster-webserver) (1.3.1)\n",
      "Requirement already satisfied: graphql-core<3.2.7,>=3.2 in c:\\program files\\python311\\lib\\site-packages (from gql[requests]<4,>=3->dagster-graphql==1.11.2->dagster-webserver) (3.2.6)\n",
      "Requirement already satisfied: yarl<2.0,>=1.6 in c:\\program files\\python311\\lib\\site-packages (from gql[requests]<4,>=3->dagster-graphql==1.11.2->dagster-webserver) (1.20.1)\n",
      "Requirement already satisfied: backoff<3.0,>=1.11.1 in c:\\program files\\python311\\lib\\site-packages (from gql[requests]<4,>=3->dagster-graphql==1.11.2->dagster-webserver) (2.2.1)\n",
      "Requirement already satisfied: requests-toolbelt<2,>=1.0.0 in c:\\users\\hause\\appdata\\roaming\\python\\python311\\site-packages (from gql[requests]<4,>=3->dagster-graphql==1.11.2->dagster-webserver) (1.0.0)\n",
      "Requirement already satisfied: graphql-relay<3.3,>=3.1 in c:\\program files\\python311\\lib\\site-packages (from graphene<4,>=3->dagster-graphql==1.11.2->dagster-webserver) (3.2.0)\n",
      "Requirement already satisfied: python-dateutil<3,>=2.7.0 in c:\\users\\hause\\appdata\\roaming\\python\\python311\\site-packages (from graphene<4,>=3->dagster-graphql==1.11.2->dagster-webserver) (2.9.0.post0)\n",
      "Requirement already satisfied: pyreadline3 in c:\\program files\\python311\\lib\\site-packages (from humanfriendly>=7.1->coloredlogs<=14.0,>=6.1->dagster) (3.5.4)\n",
      "Requirement already satisfied: mdurl~=0.1 in c:\\users\\hause\\appdata\\roaming\\python\\python311\\site-packages (from markdown-it-py>=2.2.0->rich->dagster) (0.1.2)\n",
      "Requirement already satisfied: annotated-types>=0.6.0 in c:\\users\\hause\\appdata\\roaming\\python\\python311\\site-packages (from pydantic<3.0.0,>=2->dagster-shared==1.11.2->dagster) (0.7.0)\n",
      "Requirement already satisfied: pydantic-core==2.33.2 in c:\\users\\hause\\appdata\\roaming\\python\\python311\\site-packages (from pydantic<3.0.0,>=2->dagster-shared==1.11.2->dagster) (2.33.2)\n",
      "Requirement already satisfied: typing-inspection>=0.4.0 in c:\\users\\hause\\appdata\\roaming\\python\\python311\\site-packages (from pydantic<3.0.0,>=2->dagster-shared==1.11.2->dagster) (0.4.1)\n",
      "Requirement already satisfied: multidict>=4.0 in c:\\program files\\python311\\lib\\site-packages (from yarl<2.0,>=1.6->gql[requests]<4,>=3->dagster-graphql==1.11.2->dagster-webserver) (6.6.3)\n",
      "Requirement already satisfied: propcache>=0.2.1 in c:\\program files\\python311\\lib\\site-packages (from yarl<2.0,>=1.6->gql[requests]<4,>=3->dagster-graphql==1.11.2->dagster-webserver) (0.3.2)\n",
      "Note: you may need to restart the kernel to use updated packages.\n"
     ]
    },
    {
     "name": "stderr",
     "output_type": "stream",
     "text": [
      "\n",
      "[notice] A new release of pip available: 22.3 -> 25.1.1\n",
      "[notice] To update, run: python.exe -m pip install --upgrade pip\n"
     ]
    }
   ],
   "source": [
    "%pip install dagster dagster-webserver"
   ]
  },
  {
   "cell_type": "code",
   "execution_count": 6,
   "id": "25942d21",
   "metadata": {},
   "outputs": [],
   "source": [
    "import sys\n",
    "import os\n",
    "import pandas as pd\n",
    "from dagster import graph, op, ScheduleDefinition, schedule\n",
    "from sqlalchemy import create_engine, Date, Text, REAL\n",
    "sys.path.append(os.path.abspath(\"../orchestration\"))"
   ]
  },
  {
   "cell_type": "code",
   "execution_count": 2,
   "id": "f4d75ec5",
   "metadata": {},
   "outputs": [],
   "source": [
    "from dagster import op, job\n",
    "import subprocess"
   ]
  }
 ],
 "metadata": {
  "kernelspec": {
   "display_name": "Python 3",
   "language": "python",
   "name": "python3"
  },
  "language_info": {
   "codemirror_mode": {
    "name": "ipython",
    "version": 3
   },
   "file_extension": ".py",
   "mimetype": "text/x-python",
   "name": "python",
   "nbconvert_exporter": "python",
   "pygments_lexer": "ipython3",
   "version": "3.11.0"
  }
 },
 "nbformat": 4,
 "nbformat_minor": 5
}
