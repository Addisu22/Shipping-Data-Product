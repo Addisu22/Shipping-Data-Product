{
 "cells": [
  {
   "cell_type": "markdown",
   "id": "bdfcba50",
   "metadata": {},
   "source": [
    "### Task 1 - Data Scraping and Collection (Extract & Load)"
   ]
  },
  {
   "cell_type": "code",
   "execution_count": 8,
   "id": "9fcda76b",
   "metadata": {},
   "outputs": [],
   "source": [
    "# %pip install psycopg2\n",
    "# %pip install dotenv\n",
    "# %pip install telethon"
   ]
  },
  {
   "cell_type": "code",
   "execution_count": 7,
   "id": "87149c78",
   "metadata": {},
   "outputs": [],
   "source": [
    "import sys\n",
    "import psycopg2\n",
    "import asyncio\n",
    "from dotenv import load_dotenv\n",
    "from telethon.sync import TelegramClient\n",
    "from telethon.tl.types import MessageMediaPhoto\n",
    "import os\n",
    "sys.path.append(os.path.abspath(\"../Script\"))\n",
    "import warnings\n",
    "warnings.filterwarnings('ignore')"
   ]
  },
  {
   "cell_type": "code",
   "execution_count": 2,
   "id": "6d472409",
   "metadata": {},
   "outputs": [
    {
     "name": "stdout",
     "output_type": "stream",
     "text": [
      "d:\\KAIM 5,6,7\\Week-7\\Shipping-Data-Product\n"
     ]
    }
   ],
   "source": [
    "os.chdir(\"..\")\n",
    "print(os.getcwd()) "
   ]
  },
  {
   "cell_type": "markdown",
   "id": "18c6cbe2",
   "metadata": {},
   "source": [
    "PostgreSQL database Connection"
   ]
  },
  {
   "cell_type": "code",
   "execution_count": 3,
   "id": "3a366f53",
   "metadata": {},
   "outputs": [],
   "source": [
    "from connection import getpgsql_connect "
   ]
  },
  {
   "cell_type": "code",
   "execution_count": 4,
   "id": "4bc20307",
   "metadata": {},
   "outputs": [
    {
     "name": "stdout",
     "output_type": "stream",
     "text": [
      "Connected to PostgreSQL!\n"
     ]
    }
   ],
   "source": [
    "conn = getpgsql_connect()\n",
    "print(\"Connected to PostgreSQL!\")\n",
    "conn.close()"
   ]
  },
  {
   "cell_type": "markdown",
   "id": "356eb490",
   "metadata": {},
   "source": [
    "Telegram Client Connection"
   ]
  },
  {
   "cell_type": "code",
   "execution_count": 5,
   "id": "3e25e3e0",
   "metadata": {},
   "outputs": [],
   "source": [
    "from scraping_telegram_data import *"
   ]
  },
  {
   "cell_type": "code",
   "execution_count": 9,
   "id": "314ae37a",
   "metadata": {},
   "outputs": [
    {
     "name": "stdout",
     "output_type": "stream",
     "text": [
      "Scraping channel: @lobelia4cosmetics\n",
      "Finished scraping: @lobelia4cosmetics\n",
      "\n",
      "Scraping channel: @tikvahpharma\n",
      "Finished scraping: @tikvahpharma\n",
      "\n"
     ]
    }
   ],
   "source": [
    "# channels = [\"@lobelia4cosmetics\", \"@tikvahpharma\" ]\n",
    "# for chan in channels:\n",
    "#     scrape_channel_messages(chan, limit=200)\n",
    "channels = [\"@lobelia4cosmetics\", \"@tikvahpharma\"]\n",
    "\n",
    "async def main():\n",
    "    for chan in channels:\n",
    "        print(f\"Scraping channel: {chan}\")\n",
    "        await scrape_channel_messages(chan, limit=20)\n",
    "        print(f\"Finished scraping: {chan}\\n\")\n",
    "\n",
    "# Run the event loop\n",
    "await main()  # Only works inside Jupyter or an async context  "
   ]
  }
 ],
 "metadata": {
  "kernelspec": {
   "display_name": "Python 3",
   "language": "python",
   "name": "python3"
  },
  "language_info": {
   "codemirror_mode": {
    "name": "ipython",
    "version": 3
   },
   "file_extension": ".py",
   "mimetype": "text/x-python",
   "name": "python",
   "nbconvert_exporter": "python",
   "pygments_lexer": "ipython3",
   "version": "3.11.0"
  }
 },
 "nbformat": 4,
 "nbformat_minor": 5
}
