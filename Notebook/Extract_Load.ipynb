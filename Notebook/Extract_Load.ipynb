{
 "cells": [
  {
   "cell_type": "markdown",
   "id": "bdfcba50",
   "metadata": {},
   "source": [
    "### Task 1 - Data Scraping and Collection (Extract & Load)"
   ]
  },
  {
   "cell_type": "code",
   "execution_count": 1,
   "id": "9fcda76b",
   "metadata": {},
   "outputs": [],
   "source": [
    "# %pip install psycopg2\n",
    "# %pip install dotenv"
   ]
  },
  {
   "cell_type": "code",
   "execution_count": 1,
   "id": "87149c78",
   "metadata": {},
   "outputs": [],
   "source": [
    "import sys\n",
    "import psycopg2\n",
    "from dotenv import load_dotenv\n",
    "import os\n",
    "sys.path.append(os.path.abspath(\"../Script\"))\n",
    "import warnings\n",
    "warnings.filterwarnings('ignore')"
   ]
  },
  {
   "cell_type": "code",
   "execution_count": 2,
   "id": "6d472409",
   "metadata": {},
   "outputs": [
    {
     "name": "stdout",
     "output_type": "stream",
     "text": [
      "d:\\KAIM 5,6,7\\Week-7\\Shipping-Data-Product\n"
     ]
    }
   ],
   "source": [
    "os.chdir(\"..\")\n",
    "print(os.getcwd()) "
   ]
  },
  {
   "cell_type": "code",
   "execution_count": 3,
   "id": "3a366f53",
   "metadata": {},
   "outputs": [],
   "source": [
    "from connection import getpgsql_connect "
   ]
  },
  {
   "cell_type": "code",
   "execution_count": 4,
   "id": "4bc20307",
   "metadata": {},
   "outputs": [
    {
     "name": "stdout",
     "output_type": "stream",
     "text": [
      "Connected to PostgreSQL!\n"
     ]
    }
   ],
   "source": [
    "conn = getpgsql_connect()\n",
    "print(\"Connected to PostgreSQL!\")\n",
    "conn.close()"
   ]
  }
 ],
 "metadata": {
  "kernelspec": {
   "display_name": "Python 3",
   "language": "python",
   "name": "python3"
  },
  "language_info": {
   "codemirror_mode": {
    "name": "ipython",
    "version": 3
   },
   "file_extension": ".py",
   "mimetype": "text/x-python",
   "name": "python",
   "nbconvert_exporter": "python",
   "pygments_lexer": "ipython3",
   "version": "3.11.0"
  }
 },
 "nbformat": 4,
 "nbformat_minor": 5
}
