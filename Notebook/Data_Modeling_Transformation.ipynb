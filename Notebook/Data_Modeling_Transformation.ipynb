{
 "cells": [
  {
   "cell_type": "markdown",
   "id": "41963234",
   "metadata": {},
   "source": [
    "### Task 2 -  Data Modeling and Transformation (Transform)"
   ]
  },
  {
   "cell_type": "code",
   "execution_count": null,
   "id": "fed2718b",
   "metadata": {},
   "outputs": [],
   "source": []
  }
 ],
 "metadata": {
  "language_info": {
   "name": "python"
  }
 },
 "nbformat": 4,
 "nbformat_minor": 5
}
