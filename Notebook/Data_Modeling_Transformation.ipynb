{
 "cells": [
  {
   "cell_type": "markdown",
   "id": "41963234",
   "metadata": {},
   "source": [
    "### Task 2 -  Data Modeling and Transformation (Transform)"
   ]
  },
  {
   "cell_type": "code",
   "execution_count": 23,
   "id": "9b3ebd85",
   "metadata": {},
   "outputs": [],
   "source": [
    "# %pip install python-dotenv psycopg2-binary"
   ]
  },
  {
   "cell_type": "code",
   "execution_count": 8,
   "id": "fed2718b",
   "metadata": {},
   "outputs": [],
   "source": [
    "import os\n",
    "import sys\n",
    "import json\n",
    "import psycopg2\n",
    "from psycopg2.extras import execute_values\n",
    "from datetime import datetime\n",
    "sys.path.append(os.path.abspath(\"../Script\"))\n",
    "import warnings\n",
    "warnings.filterwarnings('ignore')"
   ]
  },
  {
   "cell_type": "code",
   "execution_count": 14,
   "id": "6cd95936",
   "metadata": {},
   "outputs": [
    {
     "name": "stdout",
     "output_type": "stream",
     "text": [
      "d:\\KAIM 5,6,7\\Week-7\\Shipping-Data-Product\n"
     ]
    }
   ],
   "source": [
    "os.chdir(\"..\")\n",
    "print(os.getcwd()) "
   ]
  },
  {
   "cell_type": "code",
   "execution_count": 24,
   "id": "6465e618",
   "metadata": {},
   "outputs": [],
   "source": [
    "from connection import getpgsql_connect "
   ]
  },
  {
   "cell_type": "code",
   "execution_count": 39,
   "id": "15313d00",
   "metadata": {},
   "outputs": [],
   "source": [
    "def ensure_table_exists(cursor, conn):\n",
    "    cursor.execute(\"\"\"\n",
    "        CREATE SCHEMA IF NOT EXISTS raw;\n",
    "\n",
    "        CREATE TABLE IF NOT EXISTS raw.raw_telegram_messages (\n",
    "            message_id INT,\n",
    "            sender_id TEXT,\n",
    "            date TIMESTAMP,\n",
    "            text TEXT,\n",
    "            channel TEXT,\n",
    "            media_type TEXT\n",
    "        );\n",
    "    \"\"\")\n",
    "    conn.commit()  # ✅ Ensure table creation is persisted"
   ]
  },
  {
   "cell_type": "code",
   "execution_count": 40,
   "id": "1c95aa70",
   "metadata": {},
   "outputs": [],
   "source": [
    "def load_json_to_postgres(json_path, table_name='raw.raw_telegram_messages'):\n",
    "\n",
    "    try:\n",
    "        conn = getpgsql_connect()\n",
    "        cursor = conn.cursor()\n",
    "\n",
    "        #  Ensure table exists and COMMIT\n",
    "        ensure_table_exists(cursor, conn)\n",
    "\n",
    "        # Load JSON\n",
    "        with open(json_path, 'r', encoding='utf-8') as f:\n",
    "            data = json.load(f)\n",
    "\n",
    "        rows = [\n",
    "            (\n",
    "                msg.get('id'),\n",
    "                msg.get('sender_id'),\n",
    "                msg.get('date'),\n",
    "                msg.get('text'),\n",
    "                msg.get('channel'),\n",
    "                msg.get('media_type')\n",
    "            )\n",
    "            for msg in data\n",
    "        ]\n",
    "\n",
    "        #  Insert\n",
    "        insert_query = f\"\"\"\n",
    "            INSERT INTO {table_name} \n",
    "            (message_id, sender_id, date, text, channel, media_type)\n",
    "            VALUES %s\n",
    "        \"\"\"\n",
    "        execute_values(cursor, insert_query, rows)\n",
    "\n",
    "        conn.commit()\n",
    "        print(f\" Inserted {len(rows)} records into {table_name}\")\n",
    "        cursor.close()\n",
    "        conn.close()\n",
    "\n",
    "    except Exception as e:\n",
    "        print(f\" Error inserting data: {e}\")\n"
   ]
  },
  {
   "cell_type": "code",
   "execution_count": 41,
   "id": "f9572b28",
   "metadata": {},
   "outputs": [
    {
     "name": "stdout",
     "output_type": "stream",
     "text": [
      " Inserted 20 records into raw.raw_telegram_messages\n"
     ]
    }
   ],
   "source": [
    "json_path = \"Data/Raw/Telegram_Med_messages/2025-07-15/lobelia4cosmetics.json\"\n",
    "load_json_to_postgres(json_path)"
   ]
  }
 ],
 "metadata": {
  "kernelspec": {
   "display_name": "Python 3",
   "language": "python",
   "name": "python3"
  },
  "language_info": {
   "codemirror_mode": {
    "name": "ipython",
    "version": 3
   },
   "file_extension": ".py",
   "mimetype": "text/x-python",
   "name": "python",
   "nbconvert_exporter": "python",
   "pygments_lexer": "ipython3",
   "version": "3.11.0"
  }
 },
 "nbformat": 4,
 "nbformat_minor": 5
}
