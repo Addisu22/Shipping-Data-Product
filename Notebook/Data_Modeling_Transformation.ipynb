{
 "cells": [
  {
   "cell_type": "markdown",
   "id": "41963234",
   "metadata": {},
   "source": [
    "### Task 2 -  Data Modeling and Transformation (Transform)"
   ]
  },
  {
   "cell_type": "code",
   "execution_count": 23,
   "id": "9b3ebd85",
   "metadata": {},
   "outputs": [],
   "source": [
    "# %pip install python-dotenv psycopg2-binary"
   ]
  },
  {
   "cell_type": "code",
   "execution_count": 42,
   "id": "fed2718b",
   "metadata": {},
   "outputs": [],
   "source": [
    "import os\n",
    "import sys\n",
    "import json\n",
    "import psycopg2\n",
    "from psycopg2.extras import execute_values\n",
    "import shutil\n",
    "from datetime import datetime\n",
    "sys.path.append(os.path.abspath(\"../Script\"))\n",
    "import warnings\n",
    "warnings.filterwarnings('ignore')"
   ]
  },
  {
   "cell_type": "code",
   "execution_count": 14,
   "id": "6cd95936",
   "metadata": {},
   "outputs": [
    {
     "name": "stdout",
     "output_type": "stream",
     "text": [
      "d:\\KAIM 5,6,7\\Week-7\\Shipping-Data-Product\n"
     ]
    }
   ],
   "source": [
    "os.chdir(\"..\")\n",
    "print(os.getcwd()) "
   ]
  },
  {
   "cell_type": "code",
   "execution_count": 24,
   "id": "6465e618",
   "metadata": {},
   "outputs": [],
   "source": [
    "from connection import getpgsql_connect "
   ]
  },
  {
   "cell_type": "code",
   "execution_count": 62,
   "id": "15313d00",
   "metadata": {},
   "outputs": [],
   "source": [
    "def ensure_table_exists(cursor, conn):\n",
    "    cursor.execute(\"\"\"\n",
    "        CREATE SCHEMA IF NOT EXISTS raw;\n",
    "\n",
    "        CREATE TABLE IF NOT EXISTS raw.raw_telegram_messages (\n",
    "            message_id INT,\n",
    "            sender_id TEXT,\n",
    "            date TIMESTAMP,\n",
    "            text TEXT,\n",
    "            channel TEXT,\n",
    "            media_type TEXT\n",
    "        );\n",
    "    \"\"\")\n",
    "    conn.commit()  # ✅ Ensure table creation is persisted"
   ]
  },
  {
   "cell_type": "code",
   "execution_count": 63,
   "id": "1c95aa70",
   "metadata": {},
   "outputs": [],
   "source": [
    "def load_json_to_postgres(json_path, table_name='raw.raw_telegram_messages'):\n",
    "\n",
    "    try:\n",
    "        conn = getpgsql_connect()\n",
    "        cursor = conn.cursor()\n",
    "\n",
    "        #  Ensure table exists and COMMIT\n",
    "        ensure_table_exists(cursor, conn)\n",
    "\n",
    "        # Load JSON\n",
    "        with open(json_path, 'r', encoding='utf-8') as f:\n",
    "            data = json.load(f)\n",
    "\n",
    "        rows = [\n",
    "            (\n",
    "                msg.get('id'),\n",
    "                msg.get('sender_id'),\n",
    "                msg.get('date'),\n",
    "                msg.get('text'),\n",
    "                msg.get('channel'),\n",
    "                msg.get('media_type')\n",
    "            )\n",
    "            for msg in data\n",
    "        ]\n",
    "\n",
    "        #  Insert\n",
    "        insert_query = f\"\"\"\n",
    "            INSERT INTO {table_name} \n",
    "            (message_id, sender_id, date, text, channel, media_type)\n",
    "            VALUES %s\n",
    "        \"\"\"\n",
    "        execute_values(cursor, insert_query, rows)\n",
    "\n",
    "        conn.commit()\n",
    "        print(f\" Inserted {len(rows)} records into {table_name}\")\n",
    "        cursor.close()\n",
    "        conn.close()\n",
    "\n",
    "    except Exception as e:\n",
    "        print(f\" Error inserting data: {e}\")\n"
   ]
  },
  {
   "cell_type": "code",
   "execution_count": 64,
   "id": "f9572b28",
   "metadata": {},
   "outputs": [
    {
     "name": "stdout",
     "output_type": "stream",
     "text": [
      " Inserted 20 records into raw.raw_telegram_messages\n"
     ]
    }
   ],
   "source": [
    "json_path = \"Data/Raw/Telegram_Med_messages/2025-07-15/lobelia4cosmetics.json\"\n",
    "load_json_to_postgres(json_path)"
   ]
  },
  {
   "cell_type": "code",
   "execution_count": null,
   "id": "f60b148a",
   "metadata": {},
   "outputs": [],
   "source": [
    "def ensure_table_exists(cursor, conn):\n",
    "    cursor.execute(\"\"\"\n",
    "        CREATE SCHEMA IF NOT EXISTS raw;\n",
    "\n",
    "        CREATE TABLE IF NOT EXISTS raw.raw_telegram_messages (\n",
    "            message_id INT,\n",
    "            sender_id TEXT,\n",
    "            date TIMESTAMP,\n",
    "            text TEXT,\n",
    "            channel TEXT,\n",
    "            media_type TEXT\n",
    "        );\n",
    "    \"\"\")\n",
    "    conn.commit()\n",
    "\n",
    "def load_json_to_postgres(json_path, table_name='raw.raw_telegram_messages'):\n",
    "    # import dotenv\n",
    "    # dotenv.load_dotenv()\n",
    "\n",
    "    try:\n",
    "        conn   = getpgsql_connect()\n",
    "        cursor = conn.cursor()\n",
    "\n",
    "        # Ensure table and schema\n",
    "        ensure_table_exists(cursor, conn)\n",
    "\n",
    "        # Load JSON\n",
    "        with open(json_path, 'r', encoding='utf-8') as f:\n",
    "            data = json.load(f)\n",
    "\n",
    "        rows = []\n",
    "        images_saved = 0\n",
    "\n",
    "        for msg in data:\n",
    "            rows.append((\n",
    "                msg.get('id'),\n",
    "                msg.get('sender_id'),\n",
    "                msg.get('date'),\n",
    "                msg.get('text'),\n",
    "                msg.get('channel'),\n",
    "                msg.get('media_type')\n",
    "            ))\n",
    "\n",
    "            # Handle image saving (if path exists)\n",
    "            media_path = msg.get(\"media_file_path\")\n",
    "            # media_path = 'Data/Raw/Telegram_Med_messages/2025-07-15/images'\n",
    "            if media_path and os.path.exists(media_path):\n",
    "                channel = msg.get('channel').replace('@', '')\n",
    "                date_part = datetime.now().strftime('%Y-%m-%d')\n",
    "                dest_dir = f\"data/images/telegram/{date_part}/{channel}\"\n",
    "                os.makedirs(dest_dir, exist_ok=True)\n",
    "                dest_path = os.path.join(dest_dir, os.path.basename(media_path))\n",
    "\n",
    "                shutil.copy(media_path, dest_path)\n",
    "                images_saved += 1\n",
    "\n",
    "        # Insert data into PostgreSQL\n",
    "        insert_query = f\"\"\"\n",
    "            INSERT INTO {table_name}\n",
    "            (message_id, sender_id, date, text, channel, media_type)\n",
    "            VALUES %s\n",
    "        \"\"\"\n",
    "        execute_values(cursor, insert_query, rows)\n",
    "        conn.commit()\n",
    "\n",
    "        print(f\"Inserted {len(rows)} records into {table_name}\")\n",
    "        print(f\"Saved {images_saved} image files\")\n",
    "\n",
    "        cursor.close()\n",
    "        conn.close()\n",
    "\n",
    "    except Exception as e:\n",
    "        print(f\"Error inserting data or saving images: {e}\")"
   ]
  },
  {
   "cell_type": "code",
   "execution_count": 66,
   "id": "b066103b",
   "metadata": {},
   "outputs": [
    {
     "name": "stdout",
     "output_type": "stream",
     "text": [
      "Inserted 20 records into raw.raw_telegram_messages\n",
      "Saved 0 image files\n"
     ]
    }
   ],
   "source": [
    "json_path = \"Data/Raw/Telegram_Med_messages/2025-07-15/lobelia4cosmetics.json\"\n",
    "load_json_to_postgres(json_path)"
   ]
  },
  {
   "cell_type": "code",
   "execution_count": 67,
   "id": "ac2d2df9",
   "metadata": {},
   "outputs": [
    {
     "name": "stdout",
     "output_type": "stream",
     "text": [
      " Connecting to PostgreSQL database telegram\n",
      " Processing JSON file: Data/Raw/Telegram_Med_messages/2025-07-15/lobelia4cosmetics.json\n"
     ]
    },
    {
     "ename": "NameError",
     "evalue": "name 'data' is not defined",
     "output_type": "error",
     "traceback": [
      "\u001b[31m---------------------------------------------------------------------------\u001b[39m",
      "\u001b[31mNameError\u001b[39m                                 Traceback (most recent call last)",
      "\u001b[36mCell\u001b[39m\u001b[36m \u001b[39m\u001b[32mIn[67]\u001b[39m\u001b[32m, line 4\u001b[39m\n\u001b[32m      1\u001b[39m \u001b[38;5;28mprint\u001b[39m(\u001b[33mf\u001b[39m\u001b[33m\"\u001b[39m\u001b[33m Connecting to PostgreSQL database \u001b[39m\u001b[38;5;132;01m{\u001b[39;00mos.getenv(\u001b[33m'\u001b[39m\u001b[33mpgsql_db\u001b[39m\u001b[33m'\u001b[39m)\u001b[38;5;132;01m}\u001b[39;00m\u001b[33m\"\u001b[39m)\n\u001b[32m      3\u001b[39m \u001b[38;5;28mprint\u001b[39m(\u001b[33mf\u001b[39m\u001b[33m\"\u001b[39m\u001b[33m Processing JSON file: \u001b[39m\u001b[38;5;132;01m{\u001b[39;00mjson_path\u001b[38;5;132;01m}\u001b[39;00m\u001b[33m\"\u001b[39m)\n\u001b[32m----> \u001b[39m\u001b[32m4\u001b[39m \u001b[38;5;28mprint\u001b[39m(\u001b[33mf\u001b[39m\u001b[33m\"\u001b[39m\u001b[33mFound \u001b[39m\u001b[38;5;132;01m{\u001b[39;00m\u001b[38;5;28mlen\u001b[39m(\u001b[43mdata\u001b[49m)\u001b[38;5;132;01m}\u001b[39;00m\u001b[33m messages to insert\u001b[39m\u001b[33m\"\u001b[39m)\n\u001b[32m      6\u001b[39m \u001b[38;5;28mprint\u001b[39m(\u001b[33mf\u001b[39m\u001b[33m\"\u001b[39m\u001b[33mCopied image to \u001b[39m\u001b[38;5;132;01m{\u001b[39;00mdest_path\u001b[38;5;132;01m}\u001b[39;00m\u001b[33m\"\u001b[39m)\n",
      "\u001b[31mNameError\u001b[39m: name 'data' is not defined"
     ]
    }
   ],
   "source": [
    "print(f\" Connecting to PostgreSQL database {os.getenv('pgsql_db')}\")\n",
    "...\n",
    "print(f\" Processing JSON file: {json_path}\")\n",
    "print(f\"Found {len(data)} messages to insert\")\n",
    "...\n",
    "print(f\"Copied image to {dest_path}\")\n"
   ]
  }
 ],
 "metadata": {
  "kernelspec": {
   "display_name": "Python 3",
   "language": "python",
   "name": "python3"
  },
  "language_info": {
   "codemirror_mode": {
    "name": "ipython",
    "version": 3
   },
   "file_extension": ".py",
   "mimetype": "text/x-python",
   "name": "python",
   "nbconvert_exporter": "python",
   "pygments_lexer": "ipython3",
   "version": "3.11.0"
  }
 },
 "nbformat": 4,
 "nbformat_minor": 5
}
