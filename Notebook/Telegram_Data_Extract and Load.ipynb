{
 "cells": [
  {
   "cell_type": "markdown",
   "id": "b00ff817",
   "metadata": {},
   "source": [
    "### Task 1 - Data Scraping and Collection (Extract & Load)"
   ]
  },
  {
   "cell_type": "code",
   "execution_count": 1,
   "id": "35bae018",
   "metadata": {},
   "outputs": [],
   "source": [
    "import sys\n",
    "import psycopg2\n",
    "import asyncio\n",
    "from dotenv import load_dotenv\n",
    "from telethon.sync import TelegramClient\n",
    "from telethon.tl.types import MessageMediaPhoto\n",
    "import os\n",
    "sys.path.append(os.path.abspath(\"../Script\"))\n",
    "import warnings\n",
    "warnings.filterwarnings('ignore')"
   ]
  },
  {
   "cell_type": "code",
   "execution_count": 2,
   "id": "2fbdd447",
   "metadata": {},
   "outputs": [],
   "source": [
    "os.chdir(\"..\")\n",
    "# print(os.getcwd()) "
   ]
  },
  {
   "cell_type": "markdown",
   "id": "e991144b",
   "metadata": {},
   "source": [
    "Telegram Scraping: Utilize the Telegram API or write custom scripts to extract data from public Telegram channels relevant to Ethiopian medical businesses"
   ]
  },
  {
   "cell_type": "code",
   "execution_count": 3,
   "id": "129f96b7",
   "metadata": {},
   "outputs": [],
   "source": [
    "from Telegram_data_extraction import *"
   ]
  },
  {
   "cell_type": "markdown",
   "id": "d878a43b",
   "metadata": {},
   "source": [
    "Image and Scraping: Collect images from the following telegram channels for object detection:"
   ]
  },
  {
   "cell_type": "code",
   "execution_count": 11,
   "id": "204781e5",
   "metadata": {},
   "outputs": [],
   "source": [
    "channels = [\"@lobelia4cosmetics\", \"@tikvahpharma\"]\n",
    "\n",
    "async def main():\n",
    "    for chan in channels:\n",
    "        print(f\"Scraping channel: {chan}\")\n",
    "        await scrape_channel(chan, limit=20)\n",
    "        print(f\"Finished scraping: {chan}\\n\")"
   ]
  },
  {
   "cell_type": "markdown",
   "id": "961eca38",
   "metadata": {},
   "source": [
    "Populate the Data Lake: Store the raw, unaltered scraped data. This data is your source of truth."
   ]
  },
  {
   "cell_type": "code",
   "execution_count": 12,
   "id": "63424005",
   "metadata": {},
   "outputs": [
    {
     "name": "stdout",
     "output_type": "stream",
     "text": [
      "Scraping channel: @lobelia4cosmetics\n",
      "Scraped 20 messages from @lobelia4cosmetics\n",
      "Finished scraping: @lobelia4cosmetics\n",
      "\n",
      "Scraping channel: @tikvahpharma\n",
      "Scraped 19 messages from @tikvahpharma\n",
      "Finished scraping: @tikvahpharma\n",
      "\n"
     ]
    }
   ],
   "source": [
    "# Run the event loop\n",
    "await main()  # Only works inside Jupyter or an async context"
   ]
  }
 ],
 "metadata": {
  "kernelspec": {
   "display_name": "Python 3",
   "language": "python",
   "name": "python3"
  },
  "language_info": {
   "codemirror_mode": {
    "name": "ipython",
    "version": 3
   },
   "file_extension": ".py",
   "mimetype": "text/x-python",
   "name": "python",
   "nbconvert_exporter": "python",
   "pygments_lexer": "ipython3",
   "version": "3.11.0"
  }
 },
 "nbformat": 4,
 "nbformat_minor": 5
}
